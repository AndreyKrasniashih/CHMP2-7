{
 "cells": [
  {
   "cell_type": "code",
   "execution_count": 4,
   "id": "d97498bf",
   "metadata": {},
   "outputs": [
    {
     "name": "stdout",
     "output_type": "stream",
     "text": [
      "Simple iteration:\n",
      "x= -0.2897259118092107 \n",
      "y= 1.1429526759736712 \n",
      "The amount of iteration =  7\n",
      "Chek [ 1.14288476 -0.28980933]\n"
     ]
    }
   ],
   "source": [
    "import numpy as np\n",
    "from scipy import optimize\n",
    "from scipy.misc import derivative\n",
    "import math\n",
    "x0 = -0.18\n",
    "y0 = 0.5\n",
    "delta = 0.01\n",
    "def f1(y):\n",
    "    return (2 - math.sin(y))/ 2 \n",
    "def f2 (x):\n",
    "    return 0.7 - math.cos(x-1) \n",
    "def iter (x,y,e):\n",
    "    xn = x\n",
    "    yn = y\n",
    "    xn1 = f2(x)\n",
    "    yn1 = f1(y)\n",
    "    n = 1\n",
    "    while ((abs(xn1-xn)>=e) & (abs(yn1-yn) >=e)):\n",
    "        xn = xn1\n",
    "        yn = yn1\n",
    "        xn1 = f2(yn)\n",
    "        yn1 = f1(xn)\n",
    "        n += 1\n",
    "    print ('Simple iteration:')\n",
    "    print ('x=', xn, '\\ny=',yn,'\\nThe amount of iteration = ',n)\n",
    "iter(x0,y0,0.0001)\n",
    "\n",
    "\n",
    "def f3(x):\n",
    "    return math.sin(x[1]) + 2*x[0] - 2, math.cos(x[0] - 1) + x[1] -0.7\n",
    "s = optimize.root(f3, [0.,0.], method = 'hybr') #Перевірка розв*язку Відповіді мають співпасти\n",
    "print ('Chek',s.x)\n",
    "\n",
    "\n"
   ]
  },
  {
   "cell_type": "code",
   "execution_count": null,
   "id": "50348c1c",
   "metadata": {},
   "outputs": [],
   "source": []
  }
 ],
 "metadata": {
  "kernelspec": {
   "display_name": "Python 3 (ipykernel)",
   "language": "python",
   "name": "python3"
  },
  "language_info": {
   "codemirror_mode": {
    "name": "ipython",
    "version": 3
   },
   "file_extension": ".py",
   "mimetype": "text/x-python",
   "name": "python",
   "nbconvert_exporter": "python",
   "pygments_lexer": "ipython3",
   "version": "3.9.12"
  }
 },
 "nbformat": 4,
 "nbformat_minor": 5
}
