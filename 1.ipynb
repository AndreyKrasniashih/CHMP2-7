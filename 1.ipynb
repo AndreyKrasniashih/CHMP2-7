{
 "cells": [
  {
   "cell_type": "code",
   "execution_count": 4,
   "id": "79181916",
   "metadata": {},
   "outputs": [
    {
     "name": "stdout",
     "output_type": "stream",
     "text": [
      "Друга рівність точніше\n"
     ]
    }
   ],
   "source": [
    "import math\n",
    "x1=31\n",
    "x2=13/17\n",
    "x1_1 = 5.56\n",
    "x2_2 = 0.764\n",
    "def f (x1, x1_1, x2, x2_2):\n",
    "    dx1 = abs((math.sqrt(x1) - x1_1)/ math.sqrt (x1))\n",
    "    dx2 = abs((x2 - x2_2)/x2) \n",
    "    if (dx1>dx2):\n",
    "        print (\"Друга рівність точніше\")\n",
    "    else:\n",
    "        print(\"Перша рівність точніше\")\n",
    "f(x1,x1_1,x2,x2_2)"
   ]
  }
 ],
 "metadata": {
  "kernelspec": {
   "display_name": "Python 3 (ipykernel)",
   "language": "python",
   "name": "python3"
  },
  "language_info": {
   "codemirror_mode": {
    "name": "ipython",
    "version": 3
   },
   "file_extension": ".py",
   "mimetype": "text/x-python",
   "name": "python",
   "nbconvert_exporter": "python",
   "pygments_lexer": "ipython3",
   "version": "3.9.12"
  }
 },
 "nbformat": 4,
 "nbformat_minor": 5
}
