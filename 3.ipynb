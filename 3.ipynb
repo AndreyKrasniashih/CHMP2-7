{
 "cells": [
  {
   "cell_type": "code",
   "execution_count": 1,
   "id": "6a613135",
   "metadata": {},
   "outputs": [
    {
     "name": "stdout",
     "output_type": "stream",
     "text": [
      "Solving the equation by Newton*s method x =  -1.3570237539982268\n"
     ]
    }
   ],
   "source": [
    "import numpy as np\n",
    "import math\n",
    "from scipy.misc import derivative\n",
    "def f(x):\n",
    "    return 3*pow(x,4) -4*pow(x,3) + pow(x,2) -2*x - 5\n",
    "a = -2.\n",
    "b = -1/2\n",
    "eps = 0.0001\n",
    "def nuton(a,b,eps):\n",
    "    df2 = derivative(f, b, n = 2)\n",
    "    if (f(b)*df2>0):\n",
    "        xi = b\n",
    "    else:\n",
    "        xi = a\n",
    "    df = derivative(f,xi, n= 1)\n",
    "    xi_1 = xi - f(xi)/df\n",
    "    while (abs(xi_1 - xi)>eps):\n",
    "        xi = xi_1\n",
    "    xi_1 = xi - f(xi)/df\n",
    "    return print ('Solving the equation by Newton*s method x = ', xi_1)\n",
    "nuton (a,b,eps)"
   ]
  }
 ],
 "metadata": {
  "kernelspec": {
   "display_name": "Python 3 (ipykernel)",
   "language": "python",
   "name": "python3"
  },
  "language_info": {
   "codemirror_mode": {
    "name": "ipython",
    "version": 3
   },
   "file_extension": ".py",
   "mimetype": "text/x-python",
   "name": "python",
   "nbconvert_exporter": "python",
   "pygments_lexer": "ipython3",
   "version": "3.9.12"
  }
 },
 "nbformat": 4,
 "nbformat_minor": 5
}
