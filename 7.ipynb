{
 "cells": [
  {
   "cell_type": "code",
   "execution_count": 1,
   "id": "2af07393",
   "metadata": {},
   "outputs": [
    {
     "name": "stdout",
     "output_type": "stream",
     "text": [
      "0.19999999999999973\n"
     ]
    }
   ],
   "source": [
    "import numpy as np\n",
    "import math\n",
    "mas_x = [3.6,3.8,4.0,4.2,4.4,4.6]\n",
    "mas_y = [4.222,4.331,4.507,4.775,5.159,5.683]\n",
    "h = mas_x[1] - mas_x[0]\n",
    "print (h)\n",
    "mas_1 = [] \n",
    "mas_2 = []\n",
    "mas_3 = []\n",
    "mas_4 = []"
   ]
  },
  {
   "cell_type": "code",
   "execution_count": 2,
   "id": "74120ce5",
   "metadata": {},
   "outputs": [
    {
     "name": "stdout",
     "output_type": "stream",
     "text": [
      "mas_1 =  [0.10899999999999999, 0.17599999999999927, 0.2680000000000007, 0.38399999999999945, 0.524]\n",
      "mas_2= [0.06699999999999928, 0.09200000000000141, 0.11599999999999877, 0.14000000000000057]\n",
      "mas_3= [0.02500000000000213, 0.023999999999997357, 0.024000000000001798]\n",
      "mas_4= [-0.0010000000000047748, 4.440892098500626e-15]\n"
     ]
    }
   ],
   "source": [
    "for i in range(len(mas_y)):\n",
    "    mas_1.append(mas_y[i] - mas_y[i-1])\n",
    "mas_1.pop (0)\n",
    "print('mas_1 = ', mas_1)\n",
    "\n",
    "for j in range(len(mas_1)):\n",
    "    mas_2.append(mas_1[j] - mas_1[j-1])\n",
    "mas_2.pop (0)\n",
    "print('mas_2=',mas_2 )\n",
    "\n",
    "for k in range(len(mas_2)):\n",
    "    mas_3.append(mas_2[k] - mas_2[k-1])\n",
    "mas_3.pop (0)\n",
    "print('mas_3=',mas_3)\n",
    "\n",
    "for l in range(len(mas_3)):\n",
    "    mas_4.append(mas_3[l] - mas_3[l-1])\n",
    "mas_4.pop (0)\n",
    "print('mas_4=',mas_4)"
   ]
  },
  {
   "cell_type": "code",
   "execution_count": 3,
   "id": "4734e48a",
   "metadata": {},
   "outputs": [
    {
     "name": "stdout",
     "output_type": "stream",
     "text": [
      "First derivative = 0.6899999999999838\n",
      "Second derivative = 1.7000000000002073\n"
     ]
    }
   ],
   "source": [
    "y1 = 1/ h * (mas_1[1] - (mas_2[1]/ 2) + (mas_3[1] /3) - (mas_4[1]/4))\n",
    "y2 = 1/ (h**2) * (mas_2[1] - mas_3[1] + 11/12*mas_4[1]) \n",
    "\n",
    "print ('First derivative =', y1)\n",
    "print ('Second derivative =', y2) "
   ]
  }
 ],
 "metadata": {
  "kernelspec": {
   "display_name": "Python 3 (ipykernel)",
   "language": "python",
   "name": "python3"
  },
  "language_info": {
   "codemirror_mode": {
    "name": "ipython",
    "version": 3
   },
   "file_extension": ".py",
   "mimetype": "text/x-python",
   "name": "python",
   "nbconvert_exporter": "python",
   "pygments_lexer": "ipython3",
   "version": "3.9.12"
  }
 },
 "nbformat": 4,
 "nbformat_minor": 5
}
