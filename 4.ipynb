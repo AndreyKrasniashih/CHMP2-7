{
 "cells": [
  {
   "cell_type": "code",
   "execution_count": 2,
   "id": "7c9d35dc",
   "metadata": {
    "scrolled": true
   },
   "outputs": [
    {
     "name": "stdout",
     "output_type": "stream",
     "text": [
      "[[-1  5]\n",
      " [ 8 -2]]\n"
     ]
    }
   ],
   "source": [
    "#Розв'язати 1 завдання з кожного підрозділу\n",
    "#Завдання 1\n",
    "import numpy as np\n",
    "matA = np.matrix([[1,2],[4,-1]])\n",
    "matB = np.matrix([[2,-3],[-4,1]])\n",
    "matC = matA - matB\n",
    "print(matC)"
   ]
  },
  {
   "cell_type": "code",
   "execution_count": 18,
   "id": "a0eaa960",
   "metadata": {},
   "outputs": [
    {
     "name": "stdout",
     "output_type": "stream",
     "text": [
      "[[1 0]\n",
      " [0 1]]\n"
     ]
    }
   ],
   "source": [
    "#Піднести матриці до степеня\n",
    "#завдання 1\n",
    "\n",
    "import numpy as np\n",
    "a = np.matrix([[-1,2],[0,1]]) \n",
    "b = np.matrix([[-1,2],[0,1]])\n",
    "c = a.dot(b) #вирішив просто перемножити цю матрицю саму на себе, що є однаковим з возведенням в степень\n",
    "print(c)"
   ]
  },
  {
   "cell_type": "code",
   "execution_count": 19,
   "id": "bfb5b255",
   "metadata": {},
   "outputs": [
    {
     "name": "stdout",
     "output_type": "stream",
     "text": [
      "[[ 11   1]\n",
      " [ 11 -20]]\n"
     ]
    }
   ],
   "source": [
    "#Знайти добуток матриць\n",
    "#завдання 1\n",
    "a = np.matrix('3 5; 6 -1')\n",
    "b = np.matrix('2 -3; 1 2')\n",
    "c = a.dot(b)\n",
    "print(c)\n"
   ]
  },
  {
   "cell_type": "code",
   "execution_count": 13,
   "id": "29e43e6c",
   "metadata": {},
   "outputs": [
    {
     "name": "stdout",
     "output_type": "stream",
     "text": [
      "12\n"
     ]
    }
   ],
   "source": [
    "#обчислити визначники\n",
    "#завдання 2\n",
    "import numpy as np\n",
    "a = np.matrix('0 2 0; 3 4 5; 6 7 8')\n",
    "a_det = np.linalg.det(a) #Визначник матриці\n",
    "print(format(a_det, '.9g'))\n",
    "\n",
    "\n",
    "\n",
    "\n",
    "    \n"
   ]
  },
  {
   "cell_type": "code",
   "execution_count": 11,
   "id": "e0863903",
   "metadata": {},
   "outputs": [
    {
     "name": "stdout",
     "output_type": "stream",
     "text": [
      "-160\n",
      "160\n"
     ]
    }
   ],
   "source": [
    "#Обчислити визначники\n",
    "#завдання 2\n",
    "import numpy as np\n",
    "a = np.matrix('2 3 4 1; 1 2 3 4; 3 4 1 2; 4 1 2 3')\n",
    "a_det = np.linalg.det(a) #Визначник матриці\n",
    "print(format(a_det, '.9g'))\n",
    "c = -160 * -1\n",
    "print(c)\n"
   ]
  },
  {
   "cell_type": "code",
   "execution_count": 14,
   "id": "c31a575c",
   "metadata": {},
   "outputs": [
    {
     "name": "stdout",
     "output_type": "stream",
     "text": [
      "[[ 1. -2.  7.]\n",
      " [ 0.  1. -2.]\n",
      " [ 0.  0.  1.]]\n"
     ]
    }
   ],
   "source": [
    "#Знайти обернену матрицю до матриць\n",
    "#завдання 1\n",
    "A = np.matrix('1 2 -3; 0 1 2; 0 0 1')\n",
    "A_inv = np.linalg.inv(A)\n",
    "print(A_inv)\n"
   ]
  },
  {
   "cell_type": "code",
   "execution_count": 15,
   "id": "84db9c0b",
   "metadata": {},
   "outputs": [
    {
     "name": "stdout",
     "output_type": "stream",
     "text": [
      "2\n"
     ]
    }
   ],
   "source": [
    "#Визначити ранг матриці\n",
    "#завдання 1\n",
    "A = np.matrix('1 2 3 4; 3 -1 2 5 ; 1 2 3 4; 1 3 4 5')\n",
    "rank = np.linalg.matrix_rank(A)\n",
    "print(rank)"
   ]
  },
  {
   "cell_type": "code",
   "execution_count": 17,
   "id": "e4ff8931",
   "metadata": {},
   "outputs": [
    {
     "name": "stdout",
     "output_type": "stream",
     "text": [
      "A= [[ 1 -4  0]\n",
      " [ 2 -3  1]\n",
      " [ 1  4  2]]\n",
      "B= [[-5]\n",
      " [-7]\n",
      " [-1]]\n",
      "Детермінант матриці =  0.0\n",
      "Розв*язків немає\n"
     ]
    }
   ],
   "source": [
    "#Розв’язати систему лінійних рівнянь методом Крамера, матричним методом\n",
    "#завдання 13\n",
    "a = np.matrix('1 -4 0; 2 -3 1; 1 4 2')\n",
    "print('A=',a)\n",
    "b = np.matrix('-5; -7; -1')\n",
    "print('B=',b)\n",
    "\n",
    "def kramer (a, b):\n",
    "    a_det = np.linalg.det(A)\n",
    "    print('Детермінант матриці = ', a_det)\n",
    "#Зробити реревірку,що детермінант не дорівнює нулю\n",
    "    if (a_det != 0):\n",
    "        print ('Розв*язуємо систему')\n",
    "        \n",
    "        x_m = np.matrix(a)\n",
    "        x_m[:, 0] = b # формування допоміжної матриці (1 ст. замінюємо на ст. b)\n",
    "        print('x_m=', x_m)\n",
    "        y_m = np.matrix(a)  #2 ст. замінюємо на ст. b\n",
    "        y_m[:, 1] = b #2 c\n",
    "        print('y_m=',y_m)\n",
    "\n",
    "        z_m = np.matrix(a) #3 ст. замінюємо на ст. b\n",
    "        z_m[:, 2] = b\n",
    "        print('z_m=',z_m)\n",
    "\n",
    "        x = np.linalg.det(x_m) / a_det\n",
    "        y = np.linalg.det(y_m) / a_det\n",
    "        z = np.linalg.det(z_m) / a_det\n",
    "        print('X = ', round(x,5))\n",
    "\n",
    "        print('Y=', round(y,5))\n",
    "\n",
    "        print('Z=', round(z,5))\n",
    "    else:\n",
    "        print('Розв*язків немає')\n",
    "kramer(a,b)\n"
   ]
  },
  {
   "cell_type": "code",
   "execution_count": 20,
   "id": "5e690332",
   "metadata": {},
   "outputs": [
    {
     "name": "stdout",
     "output_type": "stream",
     "text": [
      "-0.4619466496964588\n"
     ]
    }
   ],
   "source": [
    "#1.Створіть прямокутну матрицю A, яка має N рядків і M стовпців з випадковими елементами. Знайдіть найменший стовпчастий елемент матриці A, для якого сума абсолютних значень елементів максимальна.\n",
    "\n",
    "import numpy as np\n",
    "n,m=4,5\n",
    "a=np.random.random((n,m))-0.5\n",
    "b=np.abs(a).sum(axis=0)\n",
    "print(min(a[:, b.argmax()]))"
   ]
  },
  {
   "cell_type": "code",
   "execution_count": null,
   "id": "cdeb8298",
   "metadata": {},
   "outputs": [],
   "source": []
  }
 ],
 "metadata": {
  "kernelspec": {
   "display_name": "Python 3 (ipykernel)",
   "language": "python",
   "name": "python3"
  },
  "language_info": {
   "codemirror_mode": {
    "name": "ipython",
    "version": 3
   },
   "file_extension": ".py",
   "mimetype": "text/x-python",
   "name": "python",
   "nbconvert_exporter": "python",
   "pygments_lexer": "ipython3",
   "version": "3.9.12"
  }
 },
 "nbformat": 4,
 "nbformat_minor": 5
}
