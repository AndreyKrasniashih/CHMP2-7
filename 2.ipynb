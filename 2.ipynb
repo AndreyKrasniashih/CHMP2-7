{
 "cells": [
  {
   "cell_type": "code",
   "execution_count": 2,
   "id": "79181916",
   "metadata": {},
   "outputs": [
    {
     "ename": "SyntaxError",
     "evalue": "invalid non-printable character U+00A0 (1337360458.py, line 6)",
     "output_type": "error",
     "traceback": [
      "\u001b[1;36m  Input \u001b[1;32mIn [2]\u001b[1;36m\u001b[0m\n\u001b[1;33m    return 12*x**3 - 12*x + 2*x - 2\u001b[0m\n\u001b[1;37m    ^\u001b[0m\n\u001b[1;31mSyntaxError\u001b[0m\u001b[1;31m:\u001b[0m invalid non-printable character U+00A0\n"
     ]
    }
   ],
   "source": [
    "import numpy as np\n",
    "import math\n",
    "import matplotlib.pyplot as plt\n",
    "\n",
    "def f(x):\n",
    "    return 12*x**3 - 12*x + 2*x - 2\n",
    "a = 1. #my first \n",
    "b = 2. #my second \n",
    "eps = 0.0001\n",
    "\n",
    "def rec_dyhotomy(a, b, eps):\n",
    "    if abs(f(b) - f(a)) < eps:\n",
    "        print('We calculate the root')\n",
    "        return\n",
    "    mid = (a+b) / 2\n",
    "    if f(mid) == 0 or abs(f(mid)) < eps:\n",
    "        print(f'The root is at the point x = {mid}')\n",
    "    elif f(a)*f(mid) < 0:\n",
    "        rec_dyhotomy(a, mid, eps)\n",
    "    else:\n",
    "        rec_dyhotomy(mid, b, eps)\n",
    "\n",
    "x = np.arange(a, b, 0.0001)\n",
    "plt.plot(x, f(x)) \n",
    "plt.xlabel('x')  \n",
    "plt.ylabel('f(x)') \n",
    "plt.title('The halving method')  \n",
    "plt.grid() \n",
    "plt.show()"
   ]
  }
 ],
 "metadata": {
  "kernelspec": {
   "display_name": "Python 3 (ipykernel)",
   "language": "python",
   "name": "python3"
  },
  "language_info": {
   "codemirror_mode": {
    "name": "ipython",
    "version": 3
   },
   "file_extension": ".py",
   "mimetype": "text/x-python",
   "name": "python",
   "nbconvert_exporter": "python",
   "pygments_lexer": "ipython3",
   "version": "3.9.12"
  }
 },
 "nbformat": 4,
 "nbformat_minor": 5
}
